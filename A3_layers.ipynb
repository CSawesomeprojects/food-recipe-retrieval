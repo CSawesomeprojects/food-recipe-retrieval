{
 "cells": [
  {
   "cell_type": "code",
   "execution_count": 1,
   "metadata": {},
   "outputs": [],
   "source": [
    "import math\n",
    "import torch\n",
    "import numpy as np\n",
    "import torch.nn as nn\n",
    "import torch.nn.functional as F\n",
    "from torch.nn.parameter import Parameter\n",
    "from torch.nn.modules.module import Module"
   ]
  },
  {
   "cell_type": "code",
   "execution_count": null,
   "metadata": {},
   "outputs": [],
   "source": [
    "class GraphConvolution(Module):\n",
    "    \"\"\"\n",
    "    Simple GCN layer, similar to https://arxiv.org/abs/1609.02907\n",
    "    \"\"\"\n",
    "\n",
    "    def __init__(self, in_features, out_features, bias=True, init='xavier'):\n",
    "        super(GraphConvolution, self).__init__()\n",
    "        self.in_features = in_features\n",
    "        self.out_features = out_features\n",
    "        self.weight = Parameter(torch.FloatTensor(in_features, out_features))\n",
    "        if bias:\n",
    "            self.bias = Parameter(torch.FloatTensor(out_features))\n",
    "        else:\n",
    "            self.register_parameter('bias', None)\n",
    "        if init == 'uniform':\n",
    "            print(\"| Uniform Initialization\")\n",
    "            self.reset_parameters_uniform()\n",
    "        elif init == 'xavier':\n",
    "            print(\"| Xavier Initialization\")\n",
    "            self.reset_parameters_xavier()\n",
    "        elif init == 'kaiming':\n",
    "            print(\"| Kaiming Initialization\")\n",
    "            self.reset_parameters_kaiming()\n",
    "        else:\n",
    "            raise NotImplementedError\n",
    "\n",
    "    def reset_parameters_uniform(self):\n",
    "        stdv = 1. / math.sqrt(self.weight.size(1))\n",
    "        self.weight.data.uniform_(-stdv, stdv)\n",
    "        if self.bias is not None:\n",
    "            self.bias.data.uniform_(-stdv, stdv)\n",
    "\n",
    "    def reset_parameters_xavier(self):\n",
    "        nn.init.xavier_normal_(self.weight.data, gain=0.02) # Implement Xavier Uniform\n",
    "        if self.bias is not None:\n",
    "            nn.init.constant_(self.bias.data, 0.0)\n",
    "\n",
    "    def reset_parameters_kaiming(self):\n",
    "        nn.init.kaiming_normal_(self.weight.data, a=0, mode='fan_in')\n",
    "        if self.bias is not None:\n",
    "            nn.init.constant_(self.bias.data, 0.0)\n",
    "\n",
    "    def forward(self, input, adj):\n",
    "        support = torch.mm(input, self.weight)\n",
    "        output = torch.spmm(adj, support)\n",
    "        if self.bias is not None:\n",
    "            return output + self.bias\n",
    "        else:\n",
    "            return output\n",
    "\n",
    "    def __repr__(self):\n",
    "        return self.__class__.__name__ + ' (' \\\n",
    "               + str(self.in_features) + ' -> ' \\\n",
    "               + str(self.out_features) + ')'\n"
   ]
  }
 ],
 "metadata": {
  "kernelspec": {
   "display_name": "Python 3",
   "language": "python",
   "name": "python3"
  },
  "language_info": {
   "codemirror_mode": {
    "name": "ipython",
    "version": 3
   },
   "file_extension": ".py",
   "mimetype": "text/x-python",
   "name": "python",
   "nbconvert_exporter": "python",
   "pygments_lexer": "ipython3",
   "version": "3.6.5"
  }
 },
 "nbformat": 4,
 "nbformat_minor": 2
}
