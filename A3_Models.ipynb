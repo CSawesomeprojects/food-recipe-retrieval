{
 "cells": [
  {
   "cell_type": "code",
   "execution_count": 4,
   "metadata": {},
   "outputs": [],
   "source": [
    "import torch\n",
    "import torch.nn as nn\n",
    "import torch.nn.functional as F\n",
    "import torchvision.models as models"
   ]
  },
  {
   "cell_type": "code",
   "execution_count": 5,
   "metadata": {},
   "outputs": [],
   "source": [
    "%run ./layers.ipynb"
   ]
  },
  {
   "cell_type": "markdown",
   "metadata": {},
   "source": [
    "## Graph Convolution Network module\n",
    "The GCN module represents our graph network capable of processing our ingredients for each recipe.\n",
    "output: ingredient features"
   ]
  },
  {
   "cell_type": "code",
   "execution_count": 10,
   "metadata": {},
   "outputs": [],
   "source": [
    "class GCN(nn.Module):\n",
    "    def __init__(self, nfeat, nhid, dropout, init):\n",
    "        super(GCN, self).__init__()\n",
    "        \n",
    "        _, vec = torchwordemb.load_word2vec_bin('../data/vocab.bin')\n",
    "        self.embs = nn.Embedding(vec.size(0), 300, padding_idx=0)\n",
    "        self.gc1 = GraphConvolution(nfeat, nhid, init=init)\n",
    "        self.gc2 = GraphConvolution(nhid, nhid, init=init)\n",
    "        self.dropout = dropout\n",
    "    \n",
    "    def forward(self, x, adj):\n",
    "        x = self.embs(x) \n",
    "        x = F.dropout(F.relu(self.gc1(x, adj)), self.dropout, training=self.training)\n",
    "        x = self.gc2(x, adj)\n",
    "\n",
    "        return F.log_softmax(x, dim=1)"
   ]
  },
  {
   "cell_type": "markdown",
   "metadata": {},
   "source": [
    "##  LSTM module \n",
    "Molule for processing instructions\n",
    "output: instruction features"
   ]
  },
  {
   "cell_type": "code",
   "execution_count": null,
   "metadata": {},
   "outputs": [],
   "source": [
    "\n",
    "class LSTM(nn.Module):\n",
    "    def __init__(self, hidden_size):\n",
    "        super(LSTM, self).__init__()\n",
    "        self.hidden_size = hiddMoen_size\n",
    "        self.num_layers = 1\n",
    "        self.input_size = hidden_size\n",
    "        self.lstm = nn.LSTM(self.input_size, self.hidden_size, self.num_layers)\n",
    "\n",
    "    def forward(self, embedded_input, hx, cx):\n",
    "        output, (hx, cx) = self.lstm(embedded_input, (hx, cx))\n",
    "        return output, hx, cx\n",
    "\n",
    "    def initHidden(self):\n",
    "\n",
    "        hx = torch.zeros(self.num_layers, 1, self.hidden_size)\n",
    "        cx = torch.zeros(self.num_layers, 1, self.hidden_size)\n",
    "        return hx, cx\n",
    "\n"
   ]
  },
  {
   "cell_type": "markdown",
   "metadata": {},
   "source": [
    "## Resnet Module\n",
    "Module for processing images.\n",
    "output: image features"
   ]
  },
  {
   "cell_type": "code",
   "execution_count": null,
   "metadata": {},
   "outputs": [],
   "source": [
    "class RESNET(nn.Module):\n",
    "    def __init__(self):\n",
    "        super(RESNET, self).__init__()\n",
    "        resnet = models.resnet50(pretrained=True)\n",
    "        modules = list(resnet.children())[:-1]  # we do not use the last fc layer.\n",
    "        self.visionMLP = nn.Sequential(*modules)\n",
    "        self.visual_embedding = nn.Sequential(nn.Linear(2048, 1024),nn.Tanh())\n",
    "\n",
    "    def forward(self, x):\n",
    "        visual_emb = self.visionMLP(x)\n",
    "        visual_emb = visual_emb.view(visual_emb.size(0), -1)\n",
    "        visual_emb = self.visual_embedding(visual_emb)\n",
    "        visual_emb = norm(visual_emb)\n",
    "        return visual_emb\n",
    "\n",
    "def norm(input, p=2, dim=1, eps=1e-12):\n",
    "    return input / input.norm(p,dim,keepdim=True).clamp(min=eps).expand_as(input)"
   ]
  },
  {
   "cell_type": "markdown",
   "metadata": {},
   "source": [
    "## Joint Module\n",
    "Module for learning recipe embeddings which concatenate ingredient vector and instruction vector .\n",
    "output: Recipe embedding"
   ]
  },
  {
   "cell_type": "code",
   "execution_count": null,
   "metadata": {},
   "outputs": [],
   "source": [
    "class model(nn.Module):\n",
    "    def __init__(self,lstm, gcn ):\n",
    "        super(Joint_model, self).__init__()\n",
    "        self.gcn=gcn\n",
    "        self.lstm=lstm\n",
    "        self.linear = nn.Linear(2048, 1024)\n",
    "\n",
    "\n",
    "    def forward(self, X):\n",
    "        inst_embed=self.lstm(X[\"instrs\"])\n",
    "        ing_embed=self.gcn(X[\"ingrs\"])\n",
    "\n",
    "        recipe_embed = self.linear(torch.cat(inst_embed, ing_embed))\n",
    "        return  recipe_embed"
   ]
  }
 ],
 "metadata": {
  "kernelspec": {
   "display_name": "Python 3",
   "language": "python",
   "name": "python3"
  },
  "language_info": {
   "codemirror_mode": {
    "name": "ipython",
    "version": 3
   },
   "file_extension": ".py",
   "mimetype": "text/x-python",
   "name": "python",
   "nbconvert_exporter": "python",
   "pygments_lexer": "ipython3",
   "version": "3.6.5"
  }
 },
 "nbformat": 4,
 "nbformat_minor": 2
}
